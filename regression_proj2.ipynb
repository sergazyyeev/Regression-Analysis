{
  "cells": [
    {
      "cell_type": "markdown",
      "id": "intimate-marijuana",
      "metadata": {
        "id": "intimate-marijuana"
      },
      "source": [
        "# Regression Final Project"
      ]
    },
    {
      "cell_type": "markdown",
      "id": "searching-tongue",
      "metadata": {
        "id": "searching-tongue"
      },
      "source": [
        "#### Almat Sergazyyev"
      ]
    },
    {
      "cell_type": "markdown",
      "id": "representative-characteristic",
      "metadata": {
        "id": "representative-characteristic"
      },
      "source": [
        "## Introduction"
      ]
    },
    {
      "cell_type": "markdown",
      "id": "naval-sport",
      "metadata": {
        "id": "naval-sport"
      },
      "source": [
        "In short, there are 9 features that affect on the price of diamonds. There are three categorical variables:\n",
        "<ul>\n",
        "    <li>cut: ideal, premium, very good, good, fair</li>\n",
        "    <li>color: from J to D, from worst to best</li>\n",
        "    <li>clarity: I1, SI2, SI1, VS2, VS1, VVS2, VVS1, IF, from worst to best</li>\n",
        "</ul>\n",
        "There are two variables measured in percents:\n",
        "<ul>\n",
        "    <li>depth</li>\n",
        "    <li>table</li>\n",
        "</ul>\n",
        "Also there are three variables describing dimension of diamond:\n",
        "<ul>\n",
        "    <li>x: length</li>\n",
        "    <li>y: width</li>\n",
        "    <li>z: depth</li>\n",
        "</ul>\n",
        "And the last variable that defines the value of diamond:\n",
        "<ul>\n",
        "    <li>carat</li>\n",
        "</ul>"
      ]
    },
    {
      "cell_type": "markdown",
      "id": "fiscal-darkness",
      "metadata": {
        "id": "fiscal-darkness"
      },
      "source": [
        "Here is the link to the dataset: [forest fires](https://archive.ics.uci.edu/ml/datasets/Forest+Fires)"
      ]
    },
    {
      "cell_type": "markdown",
      "id": "moving-willow",
      "metadata": {
        "id": "moving-willow"
      },
      "source": [
        "## Data Preparation"
      ]
    },
    {
      "cell_type": "code",
      "execution_count": null,
      "id": "accessible-hungarian",
      "metadata": {
        "id": "accessible-hungarian"
      },
      "outputs": [],
      "source": [
        "diamonds = read.csv(\"C:/Users/sergazyyev/Desktop/diamonds.csv\")"
      ]
    },
    {
      "cell_type": "code",
      "execution_count": null,
      "id": "alive-tractor",
      "metadata": {
        "id": "alive-tractor",
        "outputId": "5a912fdb-e21c-4680-c620-bb134f9d4b88"
      },
      "outputs": [
        {
          "data": {
            "text/html": [
              "<table>\n",
              "<thead><tr><th scope=col>X</th><th scope=col>carat</th><th scope=col>cut</th><th scope=col>color</th><th scope=col>clarity</th><th scope=col>depth</th><th scope=col>table</th><th scope=col>price</th><th scope=col>x</th><th scope=col>y</th><th scope=col>z</th></tr></thead>\n",
              "<tbody>\n",
              "\t<tr><td>1        </td><td>0.23     </td><td>Ideal    </td><td>E        </td><td>SI2      </td><td>61.5     </td><td>55       </td><td>326      </td><td>3.95     </td><td>3.98     </td><td>2.43     </td></tr>\n",
              "\t<tr><td>2        </td><td>0.21     </td><td>Premium  </td><td>E        </td><td>SI1      </td><td>59.8     </td><td>61       </td><td>326      </td><td>3.89     </td><td>3.84     </td><td>2.31     </td></tr>\n",
              "\t<tr><td>3        </td><td>0.23     </td><td>Good     </td><td>E        </td><td>VS1      </td><td>56.9     </td><td>65       </td><td>327      </td><td>4.05     </td><td>4.07     </td><td>2.31     </td></tr>\n",
              "\t<tr><td>4        </td><td>0.29     </td><td>Premium  </td><td>I        </td><td>VS2      </td><td>62.4     </td><td>58       </td><td>334      </td><td>4.20     </td><td>4.23     </td><td>2.63     </td></tr>\n",
              "\t<tr><td>5        </td><td>0.31     </td><td>Good     </td><td>J        </td><td>SI2      </td><td>63.3     </td><td>58       </td><td>335      </td><td>4.34     </td><td>4.35     </td><td>2.75     </td></tr>\n",
              "\t<tr><td>6        </td><td>0.24     </td><td>Very Good</td><td>J        </td><td>VVS2     </td><td>62.8     </td><td>57       </td><td>336      </td><td>3.94     </td><td>3.96     </td><td>2.48     </td></tr>\n",
              "</tbody>\n",
              "</table>\n"
            ],
            "text/latex": [
              "\\begin{tabular}{r|lllllllllll}\n",
              " X & carat & cut & color & clarity & depth & table & price & x & y & z\\\\\n",
              "\\hline\n",
              "\t 1         & 0.23      & Ideal     & E         & SI2       & 61.5      & 55        & 326       & 3.95      & 3.98      & 2.43     \\\\\n",
              "\t 2         & 0.21      & Premium   & E         & SI1       & 59.8      & 61        & 326       & 3.89      & 3.84      & 2.31     \\\\\n",
              "\t 3         & 0.23      & Good      & E         & VS1       & 56.9      & 65        & 327       & 4.05      & 4.07      & 2.31     \\\\\n",
              "\t 4         & 0.29      & Premium   & I         & VS2       & 62.4      & 58        & 334       & 4.20      & 4.23      & 2.63     \\\\\n",
              "\t 5         & 0.31      & Good      & J         & SI2       & 63.3      & 58        & 335       & 4.34      & 4.35      & 2.75     \\\\\n",
              "\t 6         & 0.24      & Very Good & J         & VVS2      & 62.8      & 57        & 336       & 3.94      & 3.96      & 2.48     \\\\\n",
              "\\end{tabular}\n"
            ],
            "text/markdown": [
              "\n",
              "| X | carat | cut | color | clarity | depth | table | price | x | y | z |\n",
              "|---|---|---|---|---|---|---|---|---|---|---|\n",
              "| 1         | 0.23      | Ideal     | E         | SI2       | 61.5      | 55        | 326       | 3.95      | 3.98      | 2.43      |\n",
              "| 2         | 0.21      | Premium   | E         | SI1       | 59.8      | 61        | 326       | 3.89      | 3.84      | 2.31      |\n",
              "| 3         | 0.23      | Good      | E         | VS1       | 56.9      | 65        | 327       | 4.05      | 4.07      | 2.31      |\n",
              "| 4         | 0.29      | Premium   | I         | VS2       | 62.4      | 58        | 334       | 4.20      | 4.23      | 2.63      |\n",
              "| 5         | 0.31      | Good      | J         | SI2       | 63.3      | 58        | 335       | 4.34      | 4.35      | 2.75      |\n",
              "| 6         | 0.24      | Very Good | J         | VVS2      | 62.8      | 57        | 336       | 3.94      | 3.96      | 2.48      |\n",
              "\n"
            ],
            "text/plain": [
              "  X carat cut       color clarity depth table price x    y    z   \n",
              "1 1 0.23  Ideal     E     SI2     61.5  55    326   3.95 3.98 2.43\n",
              "2 2 0.21  Premium   E     SI1     59.8  61    326   3.89 3.84 2.31\n",
              "3 3 0.23  Good      E     VS1     56.9  65    327   4.05 4.07 2.31\n",
              "4 4 0.29  Premium   I     VS2     62.4  58    334   4.20 4.23 2.63\n",
              "5 5 0.31  Good      J     SI2     63.3  58    335   4.34 4.35 2.75\n",
              "6 6 0.24  Very Good J     VVS2    62.8  57    336   3.94 3.96 2.48"
            ]
          },
          "metadata": {},
          "output_type": "display_data"
        }
      ],
      "source": [
        "head(diamonds)"
      ]
    },
    {
      "cell_type": "markdown",
      "id": "growing-winning",
      "metadata": {
        "id": "growing-winning"
      },
      "source": [
        "Notice that there is a column which is simple indexing. Let us remove it "
      ]
    },
    {
      "cell_type": "code",
      "execution_count": null,
      "id": "stunning-updating",
      "metadata": {
        "id": "stunning-updating"
      },
      "outputs": [],
      "source": [
        "diamonds <- diamonds[-c(1)]"
      ]
    },
    {
      "cell_type": "code",
      "execution_count": null,
      "id": "marked-luxury",
      "metadata": {
        "id": "marked-luxury",
        "outputId": "2fbcb7c8-e0e2-421a-8547-f0ca4476f3fb"
      },
      "outputs": [
        {
          "data": {
            "text/html": [
              "<table>\n",
              "<thead><tr><th scope=col>carat</th><th scope=col>cut</th><th scope=col>color</th><th scope=col>clarity</th><th scope=col>depth</th><th scope=col>table</th><th scope=col>price</th><th scope=col>x</th><th scope=col>y</th><th scope=col>z</th></tr></thead>\n",
              "<tbody>\n",
              "\t<tr><td>0.23     </td><td>Ideal    </td><td>E        </td><td>SI2      </td><td>61.5     </td><td>55       </td><td>326      </td><td>3.95     </td><td>3.98     </td><td>2.43     </td></tr>\n",
              "\t<tr><td>0.21     </td><td>Premium  </td><td>E        </td><td>SI1      </td><td>59.8     </td><td>61       </td><td>326      </td><td>3.89     </td><td>3.84     </td><td>2.31     </td></tr>\n",
              "\t<tr><td>0.23     </td><td>Good     </td><td>E        </td><td>VS1      </td><td>56.9     </td><td>65       </td><td>327      </td><td>4.05     </td><td>4.07     </td><td>2.31     </td></tr>\n",
              "\t<tr><td>0.29     </td><td>Premium  </td><td>I        </td><td>VS2      </td><td>62.4     </td><td>58       </td><td>334      </td><td>4.20     </td><td>4.23     </td><td>2.63     </td></tr>\n",
              "\t<tr><td>0.31     </td><td>Good     </td><td>J        </td><td>SI2      </td><td>63.3     </td><td>58       </td><td>335      </td><td>4.34     </td><td>4.35     </td><td>2.75     </td></tr>\n",
              "\t<tr><td>0.24     </td><td>Very Good</td><td>J        </td><td>VVS2     </td><td>62.8     </td><td>57       </td><td>336      </td><td>3.94     </td><td>3.96     </td><td>2.48     </td></tr>\n",
              "</tbody>\n",
              "</table>\n"
            ],
            "text/latex": [
              "\\begin{tabular}{r|llllllllll}\n",
              " carat & cut & color & clarity & depth & table & price & x & y & z\\\\\n",
              "\\hline\n",
              "\t 0.23      & Ideal     & E         & SI2       & 61.5      & 55        & 326       & 3.95      & 3.98      & 2.43     \\\\\n",
              "\t 0.21      & Premium   & E         & SI1       & 59.8      & 61        & 326       & 3.89      & 3.84      & 2.31     \\\\\n",
              "\t 0.23      & Good      & E         & VS1       & 56.9      & 65        & 327       & 4.05      & 4.07      & 2.31     \\\\\n",
              "\t 0.29      & Premium   & I         & VS2       & 62.4      & 58        & 334       & 4.20      & 4.23      & 2.63     \\\\\n",
              "\t 0.31      & Good      & J         & SI2       & 63.3      & 58        & 335       & 4.34      & 4.35      & 2.75     \\\\\n",
              "\t 0.24      & Very Good & J         & VVS2      & 62.8      & 57        & 336       & 3.94      & 3.96      & 2.48     \\\\\n",
              "\\end{tabular}\n"
            ],
            "text/markdown": [
              "\n",
              "| carat | cut | color | clarity | depth | table | price | x | y | z |\n",
              "|---|---|---|---|---|---|---|---|---|---|\n",
              "| 0.23      | Ideal     | E         | SI2       | 61.5      | 55        | 326       | 3.95      | 3.98      | 2.43      |\n",
              "| 0.21      | Premium   | E         | SI1       | 59.8      | 61        | 326       | 3.89      | 3.84      | 2.31      |\n",
              "| 0.23      | Good      | E         | VS1       | 56.9      | 65        | 327       | 4.05      | 4.07      | 2.31      |\n",
              "| 0.29      | Premium   | I         | VS2       | 62.4      | 58        | 334       | 4.20      | 4.23      | 2.63      |\n",
              "| 0.31      | Good      | J         | SI2       | 63.3      | 58        | 335       | 4.34      | 4.35      | 2.75      |\n",
              "| 0.24      | Very Good | J         | VVS2      | 62.8      | 57        | 336       | 3.94      | 3.96      | 2.48      |\n",
              "\n"
            ],
            "text/plain": [
              "  carat cut       color clarity depth table price x    y    z   \n",
              "1 0.23  Ideal     E     SI2     61.5  55    326   3.95 3.98 2.43\n",
              "2 0.21  Premium   E     SI1     59.8  61    326   3.89 3.84 2.31\n",
              "3 0.23  Good      E     VS1     56.9  65    327   4.05 4.07 2.31\n",
              "4 0.29  Premium   I     VS2     62.4  58    334   4.20 4.23 2.63\n",
              "5 0.31  Good      J     SI2     63.3  58    335   4.34 4.35 2.75\n",
              "6 0.24  Very Good J     VVS2    62.8  57    336   3.94 3.96 2.48"
            ]
          },
          "metadata": {},
          "output_type": "display_data"
        }
      ],
      "source": [
        "head(diamonds)"
      ]
    },
    {
      "cell_type": "code",
      "execution_count": null,
      "id": "electoral-poetry",
      "metadata": {
        "id": "electoral-poetry",
        "outputId": "9d5ed5c8-f997-4ae9-a41e-75203fe0c655"
      },
      "outputs": [
        {
          "data": {
            "text/html": [
              "53940"
            ],
            "text/latex": [
              "53940"
            ],
            "text/markdown": [
              "53940"
            ],
            "text/plain": [
              "[1] 53940"
            ]
          },
          "metadata": {},
          "output_type": "display_data"
        }
      ],
      "source": [
        "length(diamonds$x)"
      ]
    },
    {
      "cell_type": "markdown",
      "id": "international-genesis",
      "metadata": {
        "id": "international-genesis"
      },
      "source": [
        "Since my R crushes when I use all the data, I decided to randomly choose 500 observations."
      ]
    },
    {
      "cell_type": "code",
      "execution_count": null,
      "id": "devoted-crowd",
      "metadata": {
        "id": "devoted-crowd"
      },
      "outputs": [],
      "source": [
        "library(dplyr)"
      ]
    },
    {
      "cell_type": "code",
      "execution_count": null,
      "id": "equal-middle",
      "metadata": {
        "id": "equal-middle"
      },
      "outputs": [],
      "source": [
        "diamonds_reduced <- sample_n(diamonds,500)"
      ]
    },
    {
      "cell_type": "code",
      "execution_count": null,
      "id": "animated-singing",
      "metadata": {
        "id": "animated-singing",
        "outputId": "657c076a-fa86-4e16-f087-6d5c9074fc3a"
      },
      "outputs": [
        {
          "data": {
            "text/html": [
              "500"
            ],
            "text/latex": [
              "500"
            ],
            "text/markdown": [
              "500"
            ],
            "text/plain": [
              "[1] 500"
            ]
          },
          "metadata": {},
          "output_type": "display_data"
        }
      ],
      "source": [
        "length(diamonds_reduced$x)"
      ]
    },
    {
      "cell_type": "markdown",
      "id": "judicial-washer",
      "metadata": {
        "id": "judicial-washer"
      },
      "source": [
        "In ML class project, there were some faulty data in this dataset. Let me check if they present in reduced dataset"
      ]
    },
    {
      "cell_type": "code",
      "execution_count": null,
      "id": "distinct-source",
      "metadata": {
        "id": "distinct-source"
      },
      "outputs": [],
      "source": [
        "diamonds_reduced <- diamonds_reduced[which(diamonds_reduced$x > 0),]\n",
        "diamonds_reduced <- diamonds_reduced[which(diamonds_reduced$y > 0),]\n",
        "diamonds_reduced <- diamonds_reduced[which(diamonds_reduced$z > 0),]"
      ]
    },
    {
      "cell_type": "code",
      "execution_count": null,
      "id": "herbal-prospect",
      "metadata": {
        "id": "herbal-prospect",
        "outputId": "63b76183-27a3-4231-beba-28aab4f7470c"
      },
      "outputs": [
        {
          "data": {
            "text/html": [
              "500"
            ],
            "text/latex": [
              "500"
            ],
            "text/markdown": [
              "500"
            ],
            "text/plain": [
              "[1] 500"
            ]
          },
          "metadata": {},
          "output_type": "display_data"
        }
      ],
      "source": [
        "length(diamonds_reduced$x)"
      ]
    },
    {
      "cell_type": "markdown",
      "id": "weird-optimization",
      "metadata": {
        "id": "weird-optimization"
      },
      "source": [
        "We were lucky and have no faulty data. "
      ]
    },
    {
      "cell_type": "markdown",
      "id": "computational-security",
      "metadata": {
        "id": "computational-security"
      },
      "source": [
        "## Model Building"
      ]
    },
    {
      "cell_type": "code",
      "execution_count": null,
      "id": "excess-tiffany",
      "metadata": {
        "id": "excess-tiffany"
      },
      "outputs": [],
      "source": [
        "model1 = lm(price ~ carat + color + cut + x + y + z + depth + table + clarity,data = diamonds_reduced)"
      ]
    },
    {
      "cell_type": "code",
      "execution_count": null,
      "id": "magnetic-perfume",
      "metadata": {
        "id": "magnetic-perfume",
        "outputId": "48567ab3-49f6-4cc2-9029-f9cfae66cfca"
      },
      "outputs": [
        {
          "data": {
            "text/plain": [
              "\n",
              "Call:\n",
              "lm(formula = price ~ carat + color + cut + x + y + z + depth + \n",
              "    table + clarity, data = diamonds_reduced)\n",
              "\n",
              "Residuals:\n",
              "    Min      1Q  Median      3Q     Max \n",
              "-3598.5  -551.5  -140.7   336.4  4529.1 \n",
              "\n",
              "Coefficients:\n",
              "               Estimate Std. Error t value Pr(>|t|)    \n",
              "(Intercept)   2.348e+03  8.960e+03   0.262  0.79344    \n",
              "carat         1.171e+04  4.928e+02  23.767  < 2e-16 ***\n",
              "colorE       -3.465e+01  1.727e+02  -0.201  0.84110    \n",
              "colorF       -2.556e+01  1.661e+02  -0.154  0.87777    \n",
              "colorG       -4.403e+02  1.621e+02  -2.716  0.00685 ** \n",
              "colorH       -9.133e+02  1.730e+02  -5.280 1.96e-07 ***\n",
              "colorI       -1.374e+03  1.867e+02  -7.361 8.10e-13 ***\n",
              "colorJ       -2.353e+03  2.422e+02  -9.712  < 2e-16 ***\n",
              "cutGood       3.892e+02  3.450e+02   1.128  0.25987    \n",
              "cutIdeal      8.042e+02  3.494e+02   2.302  0.02178 *  \n",
              "cutPremium    6.727e+02  3.344e+02   2.012  0.04480 *  \n",
              "cutVery Good  8.178e+02  3.408e+02   2.400  0.01678 *  \n",
              "x            -1.411e+03  1.191e+03  -1.184  0.23688    \n",
              "y            -3.949e+01  1.393e+02  -0.283  0.77697    \n",
              "z             2.710e+02  2.150e+03   0.126  0.89973    \n",
              "depth        -5.933e+01  1.346e+02  -0.441  0.65965    \n",
              "table         5.438e-02  2.766e+01   0.002  0.99843    \n",
              "clarityIF     4.296e+03  3.870e+02  11.100  < 2e-16 ***\n",
              "claritySI1    2.636e+03  3.448e+02   7.646 1.16e-13 ***\n",
              "claritySI2    1.746e+03  3.485e+02   5.011 7.64e-07 ***\n",
              "clarityVS1    3.518e+03  3.539e+02   9.942  < 2e-16 ***\n",
              "clarityVS2    3.203e+03  3.456e+02   9.266  < 2e-16 ***\n",
              "clarityVVS1   3.922e+03  3.857e+02  10.169  < 2e-16 ***\n",
              "clarityVVS2   3.997e+03  3.772e+02  10.597  < 2e-16 ***\n",
              "---\n",
              "Signif. codes:  0 '***' 0.001 '**' 0.01 '*' 0.05 '.' 0.1 ' ' 1\n",
              "\n",
              "Residual standard error: 973.4 on 476 degrees of freedom\n",
              "Multiple R-squared:  0.9355,\tAdjusted R-squared:  0.9324 \n",
              "F-statistic: 300.3 on 23 and 476 DF,  p-value: < 2.2e-16\n"
            ]
          },
          "metadata": {},
          "output_type": "display_data"
        }
      ],
      "source": [
        "summary(model1)"
      ]
    },
    {
      "cell_type": "markdown",
      "id": "bacterial-peace",
      "metadata": {
        "id": "bacterial-peace"
      },
      "source": [
        "## Checking Model Assumptions"
      ]
    },
    {
      "cell_type": "markdown",
      "id": "african-whole",
      "metadata": {
        "id": "african-whole"
      },
      "source": [
        "### Linearity"
      ]
    },
    {
      "cell_type": "code",
      "execution_count": null,
      "id": "sitting-astrology",
      "metadata": {
        "id": "sitting-astrology"
      },
      "outputs": [],
      "source": [
        "options(repr.plot.width=4, repr.plot.height=3)"
      ]
    },
    {
      "cell_type": "code",
      "execution_count": null,
      "id": "stupid-hamburg",
      "metadata": {
        "id": "stupid-hamburg",
        "outputId": "536af95e-be4a-4f22-b3bd-f3a2f7673a5f"
      },
      "outputs": [
        {
          "data": {
            "image/png": "[encoded data removed]",
            "text/plain": [
              "Plot with title \"Residuals vs Fitted values\""
            ]
          },
          "metadata": {},
          "output_type": "display_data"
        }
      ],
      "source": [
        "plot(model1$residuals ~ model1$fitted, main = 'Residuals vs Fitted values', xlab = 'Fitted values', ylab = 'Residuals')\n",
        "abline(h = 0)"
      ]
    },
    {
      "cell_type": "markdown",
      "id": "pointed-commerce",
      "metadata": {
        "id": "pointed-commerce"
      },
      "source": [
        "I think linearity is not satisfied. But let us check it with another plot."
      ]
    },
    {
      "cell_type": "code",
      "execution_count": null,
      "id": "extra-rebecca",
      "metadata": {
        "id": "extra-rebecca",
        "outputId": "214512f2-31bf-4f53-cc28-0e71ebad9651"
      },
      "outputs": [
        {
          "data": {
            "image/png": "[encoded data removed]",
            "text/plain": [
              "Plot with title \"Actual price vs Fitted values\""
            ]
          },
          "metadata": {},
          "output_type": "display_data"
        }
      ],
      "source": [
        "plot(diamonds_reduced$price ~ model1$fitted, main = 'Actual price vs Fitted values', xlab = 'Fitted values', ylab = 'Actual price')\n",
        "abline(0,1)"
      ]
    },
    {
      "cell_type": "markdown",
      "id": "dimensional-caution",
      "metadata": {
        "id": "dimensional-caution"
      },
      "source": [
        "We observe that points more or less follow the diagonal meaning that linearity is satisfied. Let us move further"
      ]
    },
    {
      "cell_type": "markdown",
      "id": "hybrid-multimedia",
      "metadata": {
        "id": "hybrid-multimedia"
      },
      "source": [
        "### Normality"
      ]
    },
    {
      "cell_type": "code",
      "execution_count": null,
      "id": "derived-shipping",
      "metadata": {
        "id": "derived-shipping",
        "outputId": "8c1bb83d-1925-4ef1-e0a9-ebddb8879d18"
      },
      "outputs": [
        {
          "data": {
            "image/png": "[encoded data removed]",
            "text/plain": [
              "Plot with title \"Normal Q-Q Plot\""
            ]
          },
          "metadata": {},
          "output_type": "display_data"
        }
      ],
      "source": [
        "qqnorm(model1$residuals)\n",
        "qqline(model1$residuals)"
      ]
    },
    {
      "cell_type": "markdown",
      "id": "cubic-amazon",
      "metadata": {
        "id": "cubic-amazon"
      },
      "source": [
        "I think normality is not satisfied, according to the graph"
      ]
    },
    {
      "cell_type": "code",
      "execution_count": null,
      "id": "chief-pennsylvania",
      "metadata": {
        "id": "chief-pennsylvania",
        "outputId": "7d0f0dfb-5052-4159-a133-0ee8293d9d70"
      },
      "outputs": [
        {
          "data": {
            "text/plain": [
              "\n",
              "\tShapiro-Wilk normality test\n",
              "\n",
              "data:  model1$residuals\n",
              "W = 0.88096, p-value < 2.2e-16\n"
            ]
          },
          "metadata": {},
          "output_type": "display_data"
        }
      ],
      "source": [
        "shapiro.test(model1$residuals)"
      ]
    },
    {
      "cell_type": "markdown",
      "id": "facial-geography",
      "metadata": {
        "id": "facial-geography"
      },
      "source": [
        "Since p-value is less than any reasonable significance level, Shapiro-Wilk test also concludes normality is not satisfied"
      ]
    },
    {
      "cell_type": "markdown",
      "id": "facial-fellow",
      "metadata": {
        "id": "facial-fellow"
      },
      "source": [
        "### Independence"
      ]
    },
    {
      "cell_type": "code",
      "execution_count": null,
      "id": "norwegian-switzerland",
      "metadata": {
        "id": "norwegian-switzerland",
        "outputId": "fcbc6b1b-f3fa-46ad-93cd-e20afa2b9103"
      },
      "outputs": [
        {
          "data": {
            "image/png": "[encoded data removed]",
            "text/plain": [
              "Plot with title \"Residuals vs index\""
            ]
          },
          "metadata": {},
          "output_type": "display_data"
        }
      ],
      "source": [
        "plot(model1$residuals, main = 'Residuals vs index', ylab = 'Residuals')\n",
        "abline(h = 0)"
      ]
    },
    {
      "cell_type": "markdown",
      "id": "unlike-arrow",
      "metadata": {
        "id": "unlike-arrow"
      },
      "source": [
        "There is no pattern, so independence assumption holds"
      ]
    },
    {
      "cell_type": "markdown",
      "id": "complicated-approach",
      "metadata": {
        "id": "complicated-approach"
      },
      "source": [
        "### Constant variance"
      ]
    },
    {
      "cell_type": "code",
      "execution_count": null,
      "id": "improving-grave",
      "metadata": {
        "id": "improving-grave",
        "outputId": "7a8712a0-559a-4ab1-e440-0b92abdb2ade"
      },
      "outputs": [
        {
          "data": {
            "image/png": "[encoded data removed]",
            "text/plain": [
              "Plot with title \"Residuals vs Fitted values\""
            ]
          },
          "metadata": {},
          "output_type": "display_data"
        }
      ],
      "source": [
        "plot(model1$residuals ~ model1$fitted, main = 'Residuals vs Fitted values', xlab = 'Fitted values', ylab = 'Residuals')\n",
        "abline(h = 0)"
      ]
    },
    {
      "cell_type": "markdown",
      "id": "operating-little",
      "metadata": {
        "id": "operating-little"
      },
      "source": [
        "Distances from horizontal line to points are not the same but let us check through Breusch-Pagan test"
      ]
    },
    {
      "cell_type": "code",
      "execution_count": null,
      "id": "happy-richmond",
      "metadata": {
        "id": "happy-richmond"
      },
      "outputs": [],
      "source": [
        "library(lmtest)"
      ]
    },
    {
      "cell_type": "code",
      "execution_count": null,
      "id": "gross-symbol",
      "metadata": {
        "id": "gross-symbol",
        "outputId": "f9e0a9e0-3eca-445b-c699-1531c6382581"
      },
      "outputs": [
        {
          "data": {
            "text/plain": [
              "\n",
              "\tstudentized Breusch-Pagan test\n",
              "\n",
              "data:  model1\n",
              "BP = 110.44, df = 23, p-value = 2.11e-13\n"
            ]
          },
          "metadata": {},
          "output_type": "display_data"
        }
      ],
      "source": [
        "bptest(model1)"
      ]
    },
    {
      "cell_type": "markdown",
      "id": "republican-binary",
      "metadata": {
        "id": "republican-binary"
      },
      "source": [
        "We are interested in testing the null hypothesis of constant variance versus the alternative hypothesis of nonconstant variance.<br/>\n",
        "$H_{0}$: constant variance<br>\n",
        "$H_{a}$: nonconstant variance <br>\n",
        "Decision rule : If p-value is less than $\\alpha=0.05$, then we reject null hypothesis.<br>\n",
        "Conclusion: Since p-value is less than chosen significance level, we reject null hypothesis. So, constant variance is not satisfied"
      ]
    },
    {
      "cell_type": "markdown",
      "id": "further-booking",
      "metadata": {
        "id": "further-booking"
      },
      "source": [
        "## Improving the model"
      ]
    },
    {
      "cell_type": "markdown",
      "id": "quick-helmet",
      "metadata": {
        "id": "quick-helmet"
      },
      "source": [
        "### Box-Cox transformation"
      ]
    },
    {
      "cell_type": "code",
      "execution_count": null,
      "id": "careful-stewart",
      "metadata": {
        "id": "careful-stewart"
      },
      "outputs": [],
      "source": [
        "library(MASS)"
      ]
    },
    {
      "cell_type": "code",
      "execution_count": null,
      "id": "parental-referral",
      "metadata": {
        "id": "parental-referral",
        "outputId": "dc24596f-4776-4699-a5b7-dba78c5355a0"
      },
      "outputs": [
        {
          "data": {
            "image/png": "[encoded data removed]",
            "text/plain": [
              "plot without title"
            ]
          },
          "metadata": {},
          "output_type": "display_data"
        }
      ],
      "source": [
        "options(repr.plot.width=4, repr.plot.height=3)\n",
        "boxcox(model1, plotit = TRUE, lambda = seq(-0.2, 0.2, by = 0.05))"
      ]
    },
    {
      "cell_type": "code",
      "execution_count": null,
      "id": "packed-acoustic",
      "metadata": {
        "id": "packed-acoustic"
      },
      "outputs": [],
      "source": [
        "price_trans = (diamonds_reduced$price^(0.05)-1)*20"
      ]
    },
    {
      "cell_type": "code",
      "execution_count": null,
      "id": "ranging-wallet",
      "metadata": {
        "id": "ranging-wallet"
      },
      "outputs": [],
      "source": [
        "model2 = lm(price_trans ~ diamonds_reduced$carat + diamonds_reduced$color + diamonds_reduced$cut + \n",
        "            diamonds_reduced$x + diamonds_reduced$y + diamonds_reduced$z + \n",
        "            diamonds_reduced$depth + diamonds_reduced$table + diamonds_reduced$clarity)"
      ]
    },
    {
      "cell_type": "code",
      "execution_count": null,
      "id": "hourly-turtle",
      "metadata": {
        "id": "hourly-turtle",
        "outputId": "7fb6a033-fc31-4c64-89f1-1b782ed0677e"
      },
      "outputs": [
        {
          "data": {
            "text/plain": [
              "\n",
              "Call:\n",
              "lm(formula = price_trans ~ diamonds_reduced$carat + diamonds_reduced$color + \n",
              "    diamonds_reduced$cut + diamonds_reduced$x + diamonds_reduced$y + \n",
              "    diamonds_reduced$z + diamonds_reduced$depth + diamonds_reduced$table + \n",
              "    diamonds_reduced$clarity)\n",
              "\n",
              "Residuals:\n",
              "     Min       1Q   Median       3Q      Max \n",
              "-0.64935 -0.11955 -0.00185  0.11232  0.63946 \n",
              "\n",
              "Coefficients:\n",
              "                               Estimate Std. Error t value Pr(>|t|)    \n",
              "(Intercept)                   -0.195966   1.789320  -0.110 0.912836    \n",
              "diamonds_reduced$carat        -1.162450   0.098415 -11.812  < 2e-16 ***\n",
              "diamonds_reduced$colorE       -0.086913   0.034490  -2.520 0.012063 *  \n",
              "diamonds_reduced$colorF       -0.153973   0.033177  -4.641 4.49e-06 ***\n",
              "diamonds_reduced$colorG       -0.237323   0.032370  -7.332 9.84e-13 ***\n",
              "diamonds_reduced$colorH       -0.408731   0.034540 -11.834  < 2e-16 ***\n",
              "diamonds_reduced$colorI       -0.565389   0.037275 -15.168  < 2e-16 ***\n",
              "diamonds_reduced$colorJ       -0.757055   0.048375 -15.650  < 2e-16 ***\n",
              "diamonds_reduced$cutGood       0.132328   0.068897   1.921 0.055373 .  \n",
              "diamonds_reduced$cutIdeal      0.242540   0.069767   3.476 0.000555 ***\n",
              "diamonds_reduced$cutPremium    0.185570   0.066774   2.779 0.005667 ** \n",
              "diamonds_reduced$cutVery Good  0.245780   0.068046   3.612 0.000336 ***\n",
              "diamonds_reduced$x             0.712683   0.237917   2.996 0.002883 ** \n",
              "diamonds_reduced$y            -0.136522   0.027819  -4.907 1.27e-06 ***\n",
              "diamonds_reduced$z             2.199118   0.429262   5.123 4.38e-07 ***\n",
              "diamonds_reduced$depth        -0.035330   0.026888  -1.314 0.189490    \n",
              "diamonds_reduced$table         0.013908   0.005524   2.518 0.012132 *  \n",
              "diamonds_reduced$clarityIF     1.573531   0.077282  20.361  < 2e-16 ***\n",
              "diamonds_reduced$claritySI1    0.850147   0.068846  12.348  < 2e-16 ***\n",
              "diamonds_reduced$claritySI2    0.609301   0.069589   8.756  < 2e-16 ***\n",
              "diamonds_reduced$clarityVS1    1.147406   0.070666  16.237  < 2e-16 ***\n",
              "diamonds_reduced$clarityVS2    1.070675   0.069019  15.513  < 2e-16 ***\n",
              "diamonds_reduced$clarityVVS1   1.435693   0.077023  18.640  < 2e-16 ***\n",
              "diamonds_reduced$clarityVVS2   1.362335   0.075324  18.086  < 2e-16 ***\n",
              "---\n",
              "Signif. codes:  0 '***' 0.001 '**' 0.01 '*' 0.05 '.' 0.1 ' ' 1\n",
              "\n",
              "Residual standard error: 0.1944 on 476 degrees of freedom\n",
              "Multiple R-squared:  0.9831,\tAdjusted R-squared:  0.9822 \n",
              "F-statistic:  1201 on 23 and 476 DF,  p-value: < 2.2e-16\n"
            ]
          },
          "metadata": {},
          "output_type": "display_data"
        }
      ],
      "source": [
        "summary(model2)"
      ]
    },
    {
      "cell_type": "code",
      "execution_count": null,
      "id": "returning-alarm",
      "metadata": {
        "id": "returning-alarm",
        "outputId": "a67376f4-071c-4436-c9a2-ebc98e2e1871"
      },
      "outputs": [
        {
          "data": {
            "image/png": "[encoded data removed]",
            "text/plain": [
              "Plot with title \"Residuals vs Fitted values\""
            ]
          },
          "metadata": {},
          "output_type": "display_data"
        }
      ],
      "source": [
        "plot(model2$residuals ~ model2$fitted, main = 'Residuals vs Fitted values', xlab = 'Fitted values', ylab = 'Residuals')\n",
        "abline(h = 0)"
      ]
    },
    {
      "cell_type": "markdown",
      "id": "treated-magnitude",
      "metadata": {
        "id": "treated-magnitude"
      },
      "source": [
        "This plot suggests that linearity and constant variance assumptions hold. Let us quickly check homogenuity of variance by Breusch-Pagan test"
      ]
    },
    {
      "cell_type": "code",
      "execution_count": null,
      "id": "narrative-stereo",
      "metadata": {
        "id": "narrative-stereo",
        "outputId": "0911738a-f27d-45aa-a1a7-d004a0279def"
      },
      "outputs": [
        {
          "data": {
            "text/plain": [
              "\n",
              "\tstudentized Breusch-Pagan test\n",
              "\n",
              "data:  model2\n",
              "BP = 19.896, df = 23, p-value = 0.6482\n"
            ]
          },
          "metadata": {},
          "output_type": "display_data"
        }
      ],
      "source": [
        "bptest(model2)"
      ]
    },
    {
      "cell_type": "markdown",
      "id": "quality-cooper",
      "metadata": {
        "id": "quality-cooper"
      },
      "source": [
        "Under any reasonable significance level, we fail to reject null hypothesis: constant variance. Hence, constant variance is satisfied"
      ]
    },
    {
      "cell_type": "code",
      "execution_count": null,
      "id": "pleased-might",
      "metadata": {
        "id": "pleased-might",
        "outputId": "1446af16-b9b3-4e50-b31d-81da25627488"
      },
      "outputs": [
        {
          "data": {
            "image/png": "[encoded data removed]",
            "text/plain": [
              "Plot with title \"Transformed price vs Fitted values\""
            ]
          },
          "metadata": {},
          "output_type": "display_data"
        }
      ],
      "source": [
        "plot(price_trans ~ model2$fitted, main = 'Transformed price vs Fitted values', xlab = 'Fitted values', ylab = 'Transformed price')\n",
        "abline(0,1)"
      ]
    },
    {
      "cell_type": "markdown",
      "id": "aggregate-river",
      "metadata": {
        "id": "aggregate-river"
      },
      "source": [
        "Now linearity is clearly satisfied"
      ]
    },
    {
      "cell_type": "code",
      "execution_count": null,
      "id": "postal-module",
      "metadata": {
        "id": "postal-module",
        "outputId": "57da8c5c-590d-40ba-d515-04dbcc51d18a"
      },
      "outputs": [
        {
          "data": {
            "image/png": "[encoded data removed]",
            "text/plain": [
              "Plot with title \"Normal Q-Q Plot\""
            ]
          },
          "metadata": {},
          "output_type": "display_data"
        }
      ],
      "source": [
        "qqnorm(model2$residuals)\n",
        "qqline(model2$residuals)"
      ]
    },
    {
      "cell_type": "code",
      "execution_count": null,
      "id": "political-elephant",
      "metadata": {
        "id": "political-elephant",
        "outputId": "7bc0f954-5fa4-40f0-bc4b-10ed3bbfcb38"
      },
      "outputs": [
        {
          "data": {
            "text/plain": [
              "\n",
              "\tShapiro-Wilk normality test\n",
              "\n",
              "data:  model2$residuals\n",
              "W = 0.99454, p-value = 0.07223\n"
            ]
          },
          "metadata": {},
          "output_type": "display_data"
        }
      ],
      "source": [
        "shapiro.test(model2$residuals)"
      ]
    },
    {
      "cell_type": "markdown",
      "id": "sticky-phase",
      "metadata": {
        "id": "sticky-phase"
      },
      "source": [
        "Under 0.05 signficance level, we fail to reject null hypothesis: normality of residuals. Hence, normality assumption holds"
      ]
    },
    {
      "cell_type": "code",
      "execution_count": null,
      "id": "maritime-confidence",
      "metadata": {
        "id": "maritime-confidence",
        "outputId": "5a76c5c7-611d-4620-ed29-b5c0927e8413"
      },
      "outputs": [
        {
          "data": {
            "image/png": "[encoded data removed]",
            "text/plain": [
              "Plot with title \"Residuals vs index\""
            ]
          },
          "metadata": {},
          "output_type": "display_data"
        }
      ],
      "source": [
        "plot(model2$residuals, main = 'Residuals vs index', ylab = 'Residuals')\n",
        "abline(h = 0)"
      ]
    },
    {
      "cell_type": "markdown",
      "id": "pediatric-password",
      "metadata": {
        "id": "pediatric-password"
      },
      "source": [
        "Box-Cox transformation solved all the problems with model assumptions!"
      ]
    },
    {
      "cell_type": "markdown",
      "id": "apart-introduction",
      "metadata": {
        "id": "apart-introduction"
      },
      "source": [
        "### Removing Outliers using DFFITS"
      ]
    },
    {
      "cell_type": "code",
      "execution_count": null,
      "id": "individual-probe",
      "metadata": {
        "id": "individual-probe"
      },
      "outputs": [],
      "source": [
        "threshold = 1"
      ]
    },
    {
      "cell_type": "code",
      "execution_count": null,
      "id": "civic-trace",
      "metadata": {
        "id": "civic-trace"
      },
      "outputs": [],
      "source": [
        "dffits_m = abs(dffits(model2))"
      ]
    },
    {
      "cell_type": "code",
      "execution_count": null,
      "id": "adopted-reality",
      "metadata": {
        "id": "adopted-reality"
      },
      "outputs": [],
      "source": [
        "diamonds_reduced_more <- diamonds_reduced[which(dffits_m < threshold),]"
      ]
    },
    {
      "cell_type": "code",
      "execution_count": null,
      "id": "sublime-newark",
      "metadata": {
        "id": "sublime-newark",
        "outputId": "82fcf14c-fcfd-442f-eb48-361389bae441"
      },
      "outputs": [
        {
          "data": {
            "text/html": [
              "<table>\n",
              "<thead><tr><th scope=col>carat</th><th scope=col>cut</th><th scope=col>color</th><th scope=col>clarity</th><th scope=col>depth</th><th scope=col>table</th><th scope=col>price</th><th scope=col>x</th><th scope=col>y</th><th scope=col>z</th></tr></thead>\n",
              "<tbody>\n",
              "\t<tr><td>0.34     </td><td>Ideal    </td><td>I        </td><td>SI1      </td><td>62.3     </td><td>55       </td><td> 589     </td><td>4.47     </td><td>4.42     </td><td>2.77     </td></tr>\n",
              "\t<tr><td>1.31     </td><td>Premium  </td><td>I        </td><td>VS1      </td><td>61.9     </td><td>56       </td><td>5759     </td><td>7.07     </td><td>6.98     </td><td>4.35     </td></tr>\n",
              "\t<tr><td>0.71     </td><td>Very Good</td><td>I        </td><td>SI2      </td><td>63.7     </td><td>57       </td><td>1875     </td><td>5.64     </td><td>5.67     </td><td>3.60     </td></tr>\n",
              "\t<tr><td>0.74     </td><td>Good     </td><td>F        </td><td>VVS1     </td><td>58.4     </td><td>60       </td><td>4336     </td><td>6.03     </td><td>6.06     </td><td>3.53     </td></tr>\n",
              "\t<tr><td>0.56     </td><td>Premium  </td><td>G        </td><td>SI2      </td><td>60.0     </td><td>60       </td><td>1208     </td><td>5.48     </td><td>5.42     </td><td>3.11     </td></tr>\n",
              "\t<tr><td>0.31     </td><td>Very Good</td><td>I        </td><td>SI1      </td><td>63.5     </td><td>56       </td><td> 523     </td><td>4.32     </td><td>4.28     </td><td>2.73     </td></tr>\n",
              "</tbody>\n",
              "</table>\n"
            ],
            "text/latex": [
              "\\begin{tabular}{r|llllllllll}\n",
              " carat & cut & color & clarity & depth & table & price & x & y & z\\\\\n",
              "\\hline\n",
              "\t 0.34      & Ideal     & I         & SI1       & 62.3      & 55        &  589      & 4.47      & 4.42      & 2.77     \\\\\n",
              "\t 1.31      & Premium   & I         & VS1       & 61.9      & 56        & 5759      & 7.07      & 6.98      & 4.35     \\\\\n",
              "\t 0.71      & Very Good & I         & SI2       & 63.7      & 57        & 1875      & 5.64      & 5.67      & 3.60     \\\\\n",
              "\t 0.74      & Good      & F         & VVS1      & 58.4      & 60        & 4336      & 6.03      & 6.06      & 3.53     \\\\\n",
              "\t 0.56      & Premium   & G         & SI2       & 60.0      & 60        & 1208      & 5.48      & 5.42      & 3.11     \\\\\n",
              "\t 0.31      & Very Good & I         & SI1       & 63.5      & 56        &  523      & 4.32      & 4.28      & 2.73     \\\\\n",
              "\\end{tabular}\n"
            ],
            "text/markdown": [
              "\n",
              "| carat | cut | color | clarity | depth | table | price | x | y | z |\n",
              "|---|---|---|---|---|---|---|---|---|---|\n",
              "| 0.34      | Ideal     | I         | SI1       | 62.3      | 55        |  589      | 4.47      | 4.42      | 2.77      |\n",
              "| 1.31      | Premium   | I         | VS1       | 61.9      | 56        | 5759      | 7.07      | 6.98      | 4.35      |\n",
              "| 0.71      | Very Good | I         | SI2       | 63.7      | 57        | 1875      | 5.64      | 5.67      | 3.60      |\n",
              "| 0.74      | Good      | F         | VVS1      | 58.4      | 60        | 4336      | 6.03      | 6.06      | 3.53      |\n",
              "| 0.56      | Premium   | G         | SI2       | 60.0      | 60        | 1208      | 5.48      | 5.42      | 3.11      |\n",
              "| 0.31      | Very Good | I         | SI1       | 63.5      | 56        |  523      | 4.32      | 4.28      | 2.73      |\n",
              "\n"
            ],
            "text/plain": [
              "  carat cut       color clarity depth table price x    y    z   \n",
              "1 0.34  Ideal     I     SI1     62.3  55     589  4.47 4.42 2.77\n",
              "2 1.31  Premium   I     VS1     61.9  56    5759  7.07 6.98 4.35\n",
              "3 0.71  Very Good I     SI2     63.7  57    1875  5.64 5.67 3.60\n",
              "4 0.74  Good      F     VVS1    58.4  60    4336  6.03 6.06 3.53\n",
              "5 0.56  Premium   G     SI2     60.0  60    1208  5.48 5.42 3.11\n",
              "6 0.31  Very Good I     SI1     63.5  56     523  4.32 4.28 2.73"
            ]
          },
          "metadata": {},
          "output_type": "display_data"
        }
      ],
      "source": [
        "head(diamonds_reduced_more)"
      ]
    },
    {
      "cell_type": "code",
      "execution_count": null,
      "id": "understood-present",
      "metadata": {
        "id": "understood-present",
        "outputId": "fb3ec37a-46eb-4335-8596-45b8abb34f80"
      },
      "outputs": [
        {
          "data": {
            "text/html": [
              "497"
            ],
            "text/latex": [
              "497"
            ],
            "text/markdown": [
              "497"
            ],
            "text/plain": [
              "[1] 497"
            ]
          },
          "metadata": {},
          "output_type": "display_data"
        }
      ],
      "source": [
        "length(diamonds_reduced_more$x)"
      ]
    },
    {
      "cell_type": "markdown",
      "id": "right-commission",
      "metadata": {
        "id": "right-commission"
      },
      "source": [
        "Using DFFITS we removed 3 points from dataset"
      ]
    },
    {
      "cell_type": "code",
      "execution_count": null,
      "id": "absolute-blond",
      "metadata": {
        "id": "absolute-blond"
      },
      "outputs": [],
      "source": [
        "price_trans = (diamonds_reduced_more$price^(0.05)-1)*20"
      ]
    },
    {
      "cell_type": "code",
      "execution_count": null,
      "id": "french-lexington",
      "metadata": {
        "id": "french-lexington"
      },
      "outputs": [],
      "source": [
        "model3 = lm(price_trans ~ diamonds_reduced_more$carat + diamonds_reduced_more$color + diamonds_reduced_more$cut + \n",
        "            diamonds_reduced_more$x + diamonds_reduced_more$y + diamonds_reduced_more$z + \n",
        "            diamonds_reduced_more$depth + diamonds_reduced_more$table + diamonds_reduced_more$clarity)"
      ]
    },
    {
      "cell_type": "code",
      "execution_count": null,
      "id": "similar-hartford",
      "metadata": {
        "id": "similar-hartford",
        "outputId": "8f75ae7f-42e6-4389-a5ac-01dbb1bf5f51"
      },
      "outputs": [
        {
          "data": {
            "text/plain": [
              "\n",
              "Call:\n",
              "lm(formula = price_trans ~ diamonds_reduced_more$carat + diamonds_reduced_more$color + \n",
              "    diamonds_reduced_more$cut + diamonds_reduced_more$x + diamonds_reduced_more$y + \n",
              "    diamonds_reduced_more$z + diamonds_reduced_more$depth + diamonds_reduced_more$table + \n",
              "    diamonds_reduced_more$clarity)\n",
              "\n",
              "Residuals:\n",
              "    Min      1Q  Median      3Q     Max \n",
              "-0.6742 -0.1144 -0.0085  0.1116  0.6223 \n",
              "\n",
              "Coefficients:\n",
              "                                    Estimate Std. Error t value Pr(>|t|)    \n",
              "(Intercept)                        -4.420597   2.107943  -2.097  0.03651 *  \n",
              "diamonds_reduced_more$carat        -1.162882   0.096044 -12.108  < 2e-16 ***\n",
              "diamonds_reduced_more$colorE       -0.097159   0.033723  -2.881  0.00414 ** \n",
              "diamonds_reduced_more$colorF       -0.154875   0.032371  -4.784 2.30e-06 ***\n",
              "diamonds_reduced_more$colorG       -0.237372   0.031580  -7.517 2.84e-13 ***\n",
              "diamonds_reduced_more$colorH       -0.415511   0.033866 -12.269  < 2e-16 ***\n",
              "diamonds_reduced_more$colorI       -0.567537   0.036360 -15.609  < 2e-16 ***\n",
              "diamonds_reduced_more$colorJ       -0.761091   0.047194 -16.127  < 2e-16 ***\n",
              "diamonds_reduced_more$cutGood       0.174986   0.070321   2.488  0.01318 *  \n",
              "diamonds_reduced_more$cutIdeal      0.302688   0.071730   4.220 2.93e-05 ***\n",
              "diamonds_reduced_more$cutPremium    0.260405   0.068435   3.805  0.00016 ***\n",
              "diamonds_reduced_more$cutVery Good  0.285034   0.069909   4.077 5.35e-05 ***\n",
              "diamonds_reduced_more$x             0.497870   0.241624   2.061  0.03990 *  \n",
              "diamonds_reduced_more$y             0.696116   0.245431   2.836  0.00476 ** \n",
              "diamonds_reduced_more$z             1.200243   0.506205   2.371  0.01814 *  \n",
              "diamonds_reduced_more$depth         0.028353   0.032150   0.882  0.37828    \n",
              "diamonds_reduced_more$table         0.017136   0.005466   3.135  0.00183 ** \n",
              "diamonds_reduced_more$clarityIF     1.616419   0.078983  20.465  < 2e-16 ***\n",
              "diamonds_reduced_more$claritySI1    0.896978   0.071000  12.634  < 2e-16 ***\n",
              "diamonds_reduced_more$claritySI2    0.646222   0.071626   9.022  < 2e-16 ***\n",
              "diamonds_reduced_more$clarityVS1    1.193556   0.072705  16.416  < 2e-16 ***\n",
              "diamonds_reduced_more$clarityVS2    1.120772   0.071050  15.774  < 2e-16 ***\n",
              "diamonds_reduced_more$clarityVVS1   1.481350   0.078619  18.842  < 2e-16 ***\n",
              "diamonds_reduced_more$clarityVVS2   1.403365   0.077042  18.216  < 2e-16 ***\n",
              "---\n",
              "Signif. codes:  0 '***' 0.001 '**' 0.01 '*' 0.05 '.' 0.1 ' ' 1\n",
              "\n",
              "Residual standard error: 0.1896 on 473 degrees of freedom\n",
              "Multiple R-squared:  0.9839,\tAdjusted R-squared:  0.9831 \n",
              "F-statistic:  1256 on 23 and 473 DF,  p-value: < 2.2e-16\n"
            ]
          },
          "metadata": {},
          "output_type": "display_data"
        }
      ],
      "source": [
        "summary(model3)"
      ]
    },
    {
      "cell_type": "markdown",
      "id": "sorted-lending",
      "metadata": {
        "id": "sorted-lending"
      },
      "source": [
        "Adjusted R-squared increased slightly, only by 0.0009 (from 0.9822 to 0.9831). So, removing outliers did not greatly affect on the regression model"
      ]
    },
    {
      "cell_type": "markdown",
      "id": "judicial-attitude",
      "metadata": {
        "id": "judicial-attitude"
      },
      "source": [
        "### Multicollinearity"
      ]
    },
    {
      "cell_type": "code",
      "execution_count": null,
      "id": "outer-table",
      "metadata": {
        "id": "outer-table",
        "outputId": "0790a1f1-e989-46e7-b52f-ef4fa93515d8"
      },
      "outputs": [
        {
          "name": "stderr",
          "output_type": "stream",
          "text": [
            "Loading required package: carData\n",
            "\n",
            "Attaching package: 'car'\n",
            "\n",
            "The following object is masked from 'package:dplyr':\n",
            "\n",
            "    recode\n",
            "\n"
          ]
        }
      ],
      "source": [
        "library(car)"
      ]
    },
    {
      "cell_type": "code",
      "execution_count": null,
      "id": "removed-frequency",
      "metadata": {
        "id": "removed-frequency",
        "outputId": "16c40c82-7843-4c2c-fc2e-547729ed6c40"
      },
      "outputs": [
        {
          "data": {
            "text/html": [
              "<table>\n",
              "<thead><tr><th></th><th scope=col>GVIF</th><th scope=col>Df</th><th scope=col>GVIF^(1/(2*Df))</th></tr></thead>\n",
              "<tbody>\n",
              "\t<tr><th scope=row>diamonds_reduced_more$carat</th><td>  26.726357</td><td>1          </td><td> 5.169754  </td></tr>\n",
              "\t<tr><th scope=row>diamonds_reduced_more$color</th><td>   1.413920</td><td>6          </td><td> 1.029284  </td></tr>\n",
              "\t<tr><th scope=row>diamonds_reduced_more$cut</th><td>   2.828364</td><td>4          </td><td> 1.138785  </td></tr>\n",
              "\t<tr><th scope=row>diamonds_reduced_more$x</th><td> 962.959957</td><td>1          </td><td>31.031596  </td></tr>\n",
              "\t<tr><th scope=row>diamonds_reduced_more$y</th><td> 980.249386</td><td>1          </td><td>31.308935  </td></tr>\n",
              "\t<tr><th scope=row>diamonds_reduced_more$z</th><td>1593.098330</td><td>1          </td><td>39.913636  </td></tr>\n",
              "\t<tr><th scope=row>diamonds_reduced_more$depth</th><td>  31.249253</td><td>1          </td><td> 5.590103  </td></tr>\n",
              "\t<tr><th scope=row>diamonds_reduced_more$table</th><td>   2.125420</td><td>1          </td><td> 1.457882  </td></tr>\n",
              "\t<tr><th scope=row>diamonds_reduced_more$clarity</th><td>   1.558671</td><td>7          </td><td> 1.032210  </td></tr>\n",
              "</tbody>\n",
              "</table>\n"
            ],
            "text/latex": [
              "\\begin{tabular}{r|lll}\n",
              "  & GVIF & Df & GVIF\\textasciicircum{}(1/(2*Df))\\\\\n",
              "\\hline\n",
              "\tdiamonds\\_reduced\\_more\\$carat &   26.726357 & 1           &  5.169754  \\\\\n",
              "\tdiamonds\\_reduced\\_more\\$color &    1.413920 & 6           &  1.029284  \\\\\n",
              "\tdiamonds\\_reduced\\_more\\$cut &    2.828364 & 4           &  1.138785  \\\\\n",
              "\tdiamonds\\_reduced\\_more\\$x &  962.959957 & 1           & 31.031596  \\\\\n",
              "\tdiamonds\\_reduced\\_more\\$y &  980.249386 & 1           & 31.308935  \\\\\n",
              "\tdiamonds\\_reduced\\_more\\$z & 1593.098330 & 1           & 39.913636  \\\\\n",
              "\tdiamonds\\_reduced\\_more\\$depth &   31.249253 & 1           &  5.590103  \\\\\n",
              "\tdiamonds\\_reduced\\_more\\$table &    2.125420 & 1           &  1.457882  \\\\\n",
              "\tdiamonds\\_reduced\\_more\\$clarity &    1.558671 & 7           &  1.032210  \\\\\n",
              "\\end{tabular}\n"
            ],
            "text/markdown": [
              "\n",
              "| <!--/--> | GVIF | Df | GVIF^(1/(2*Df)) |\n",
              "|---|---|---|---|\n",
              "| diamonds_reduced_more$carat |   26.726357 | 1           |  5.169754   |\n",
              "| diamonds_reduced_more$color |    1.413920 | 6           |  1.029284   |\n",
              "| diamonds_reduced_more$cut |    2.828364 | 4           |  1.138785   |\n",
              "| diamonds_reduced_more$x |  962.959957 | 1           | 31.031596   |\n",
              "| diamonds_reduced_more$y |  980.249386 | 1           | 31.308935   |\n",
              "| diamonds_reduced_more$z | 1593.098330 | 1           | 39.913636   |\n",
              "| diamonds_reduced_more$depth |   31.249253 | 1           |  5.590103   |\n",
              "| diamonds_reduced_more$table |    2.125420 | 1           |  1.457882   |\n",
              "| diamonds_reduced_more$clarity |    1.558671 | 7           |  1.032210   |\n",
              "\n"
            ],
            "text/plain": [
              "                              GVIF        Df GVIF^(1/(2*Df))\n",
              "diamonds_reduced_more$carat     26.726357 1   5.169754      \n",
              "diamonds_reduced_more$color      1.413920 6   1.029284      \n",
              "diamonds_reduced_more$cut        2.828364 4   1.138785      \n",
              "diamonds_reduced_more$x        962.959957 1  31.031596      \n",
              "diamonds_reduced_more$y        980.249386 1  31.308935      \n",
              "diamonds_reduced_more$z       1593.098330 1  39.913636      \n",
              "diamonds_reduced_more$depth     31.249253 1   5.590103      \n",
              "diamonds_reduced_more$table      2.125420 1   1.457882      \n",
              "diamonds_reduced_more$clarity    1.558671 7   1.032210      "
            ]
          },
          "metadata": {},
          "output_type": "display_data"
        }
      ],
      "source": [
        "vif(model3)"
      ]
    },
    {
      "cell_type": "markdown",
      "id": "authentic-jewelry",
      "metadata": {
        "id": "authentic-jewelry"
      },
      "source": [
        "We observe that x, y, z dimensions are highly involved in multicollinearity because their VIF values are much greater than 10"
      ]
    },
    {
      "cell_type": "markdown",
      "id": "multiple-vaccine",
      "metadata": {
        "id": "multiple-vaccine"
      },
      "source": [
        "In ML project, we integrated those dimensions into one variable. Let us apply this method here"
      ]
    },
    {
      "cell_type": "code",
      "execution_count": null,
      "id": "compressed-organizer",
      "metadata": {
        "id": "compressed-organizer"
      },
      "outputs": [],
      "source": [
        "dim = diamonds_reduced_more$x + diamonds_reduced_more$y + diamonds_reduced_more$z"
      ]
    },
    {
      "cell_type": "code",
      "execution_count": null,
      "id": "located-texture",
      "metadata": {
        "id": "located-texture"
      },
      "outputs": [],
      "source": [
        "model4 = lm(price_trans ~ diamonds_reduced_more$carat + diamonds_reduced_more$color + diamonds_reduced_more$cut + dim +\n",
        "            diamonds_reduced_more$depth + diamonds_reduced_more$table + diamonds_reduced_more$clarity)"
      ]
    },
    {
      "cell_type": "code",
      "execution_count": null,
      "id": "representative-dealer",
      "metadata": {
        "id": "representative-dealer",
        "outputId": "bf8a94b1-5313-44bb-ba5f-d5d88fd305d7"
      },
      "outputs": [
        {
          "data": {
            "text/html": [
              "<table>\n",
              "<thead><tr><th></th><th scope=col>GVIF</th><th scope=col>Df</th><th scope=col>GVIF^(1/(2*Df))</th></tr></thead>\n",
              "<tbody>\n",
              "\t<tr><th scope=row>diamonds_reduced_more$carat</th><td>26.627349</td><td>1        </td><td>5.160169 </td></tr>\n",
              "\t<tr><th scope=row>diamonds_reduced_more$color</th><td> 1.404423</td><td>6        </td><td>1.028707 </td></tr>\n",
              "\t<tr><th scope=row>diamonds_reduced_more$cut</th><td> 2.226434</td><td>4        </td><td>1.105226 </td></tr>\n",
              "\t<tr><th scope=row>dim</th><td>26.515161</td><td>1        </td><td>5.149287 </td></tr>\n",
              "\t<tr><th scope=row>diamonds_reduced_more$depth</th><td> 1.306319</td><td>1        </td><td>1.142943 </td></tr>\n",
              "\t<tr><th scope=row>diamonds_reduced_more$table</th><td> 2.069116</td><td>1        </td><td>1.438442 </td></tr>\n",
              "\t<tr><th scope=row>diamonds_reduced_more$clarity</th><td> 1.498093</td><td>7        </td><td>1.029292 </td></tr>\n",
              "</tbody>\n",
              "</table>\n"
            ],
            "text/latex": [
              "\\begin{tabular}{r|lll}\n",
              "  & GVIF & Df & GVIF\\textasciicircum{}(1/(2*Df))\\\\\n",
              "\\hline\n",
              "\tdiamonds\\_reduced\\_more\\$carat & 26.627349 & 1         & 5.160169 \\\\\n",
              "\tdiamonds\\_reduced\\_more\\$color &  1.404423 & 6         & 1.028707 \\\\\n",
              "\tdiamonds\\_reduced\\_more\\$cut &  2.226434 & 4         & 1.105226 \\\\\n",
              "\tdim & 26.515161 & 1         & 5.149287 \\\\\n",
              "\tdiamonds\\_reduced\\_more\\$depth &  1.306319 & 1         & 1.142943 \\\\\n",
              "\tdiamonds\\_reduced\\_more\\$table &  2.069116 & 1         & 1.438442 \\\\\n",
              "\tdiamonds\\_reduced\\_more\\$clarity &  1.498093 & 7         & 1.029292 \\\\\n",
              "\\end{tabular}\n"
            ],
            "text/markdown": [
              "\n",
              "| <!--/--> | GVIF | Df | GVIF^(1/(2*Df)) |\n",
              "|---|---|---|---|\n",
              "| diamonds_reduced_more$carat | 26.627349 | 1         | 5.160169  |\n",
              "| diamonds_reduced_more$color |  1.404423 | 6         | 1.028707  |\n",
              "| diamonds_reduced_more$cut |  2.226434 | 4         | 1.105226  |\n",
              "| dim | 26.515161 | 1         | 5.149287  |\n",
              "| diamonds_reduced_more$depth |  1.306319 | 1         | 1.142943  |\n",
              "| diamonds_reduced_more$table |  2.069116 | 1         | 1.438442  |\n",
              "| diamonds_reduced_more$clarity |  1.498093 | 7         | 1.029292  |\n",
              "\n"
            ],
            "text/plain": [
              "                              GVIF      Df GVIF^(1/(2*Df))\n",
              "diamonds_reduced_more$carat   26.627349 1  5.160169       \n",
              "diamonds_reduced_more$color    1.404423 6  1.028707       \n",
              "diamonds_reduced_more$cut      2.226434 4  1.105226       \n",
              "dim                           26.515161 1  5.149287       \n",
              "diamonds_reduced_more$depth    1.306319 1  1.142943       \n",
              "diamonds_reduced_more$table    2.069116 1  1.438442       \n",
              "diamonds_reduced_more$clarity  1.498093 7  1.029292       "
            ]
          },
          "metadata": {},
          "output_type": "display_data"
        }
      ],
      "source": [
        "vif(model4)"
      ]
    },
    {
      "cell_type": "markdown",
      "id": "loaded-scottish",
      "metadata": {
        "id": "loaded-scottish"
      },
      "source": [
        "So, no variables are involved in multicollinearity, but we lose interpretability of coefficents"
      ]
    },
    {
      "cell_type": "code",
      "execution_count": null,
      "id": "urban-continent",
      "metadata": {
        "id": "urban-continent",
        "outputId": "f8792276-ee58-4f43-ec0d-0b32f2fca038"
      },
      "outputs": [
        {
          "data": {
            "text/plain": [
              "\n",
              "Call:\n",
              "lm(formula = price_trans ~ diamonds_reduced_more$carat + diamonds_reduced_more$color + \n",
              "    diamonds_reduced_more$cut + dim + diamonds_reduced_more$depth + \n",
              "    diamonds_reduced_more$table + diamonds_reduced_more$clarity)\n",
              "\n",
              "Residuals:\n",
              "     Min       1Q   Median       3Q      Max \n",
              "-0.70230 -0.11357 -0.01076  0.11053  0.62505 \n",
              "\n",
              "Coefficients:\n",
              "                                    Estimate Std. Error t value Pr(>|t|)    \n",
              "(Intercept)                        -6.218587   0.659399  -9.431  < 2e-16 ***\n",
              "diamonds_reduced_more$carat        -1.167219   0.095778 -12.187  < 2e-16 ***\n",
              "diamonds_reduced_more$colorE       -0.096128   0.033664  -2.856 0.004485 ** \n",
              "diamonds_reduced_more$colorF       -0.153927   0.032328  -4.761 2.56e-06 ***\n",
              "diamonds_reduced_more$colorG       -0.237184   0.031550  -7.518 2.80e-13 ***\n",
              "diamonds_reduced_more$colorH       -0.413800   0.033797 -12.244  < 2e-16 ***\n",
              "diamonds_reduced_more$colorI       -0.565710   0.036285 -15.591  < 2e-16 ***\n",
              "diamonds_reduced_more$colorJ       -0.759229   0.047116 -16.114  < 2e-16 ***\n",
              "diamonds_reduced_more$cutGood       0.184659   0.069550   2.655 0.008195 ** \n",
              "diamonds_reduced_more$cutIdeal      0.316902   0.070368   4.503 8.42e-06 ***\n",
              "diamonds_reduced_more$cutPremium    0.268543   0.067882   3.956 8.78e-05 ***\n",
              "diamonds_reduced_more$cutVery Good  0.299257   0.068164   4.390 1.40e-05 ***\n",
              "dim                                 0.739398   0.015394  48.033  < 2e-16 ***\n",
              "diamonds_reduced_more$depth         0.056458   0.006567   8.597  < 2e-16 ***\n",
              "diamonds_reduced_more$table         0.017878   0.005388   3.318 0.000977 ***\n",
              "diamonds_reduced_more$clarityIF     1.626039   0.078137  20.810  < 2e-16 ***\n",
              "diamonds_reduced_more$claritySI1    0.906519   0.070170  12.919  < 2e-16 ***\n",
              "diamonds_reduced_more$claritySI2    0.654241   0.070965   9.219  < 2e-16 ***\n",
              "diamonds_reduced_more$clarityVS1    1.202096   0.072020  16.691  < 2e-16 ***\n",
              "diamonds_reduced_more$clarityVS2    1.129917   0.070376  16.055  < 2e-16 ***\n",
              "diamonds_reduced_more$clarityVVS1   1.493373   0.077510  19.267  < 2e-16 ***\n",
              "diamonds_reduced_more$clarityVVS2   1.413288   0.076152  18.559  < 2e-16 ***\n",
              "---\n",
              "Signif. codes:  0 '***' 0.001 '**' 0.01 '*' 0.05 '.' 0.1 ' ' 1\n",
              "\n",
              "Residual standard error: 0.1894 on 475 degrees of freedom\n",
              "Multiple R-squared:  0.9839,\tAdjusted R-squared:  0.9831 \n",
              "F-statistic:  1378 on 21 and 475 DF,  p-value: < 2.2e-16\n"
            ]
          },
          "metadata": {},
          "output_type": "display_data"
        }
      ],
      "source": [
        "summary(model4)"
      ]
    },
    {
      "cell_type": "markdown",
      "id": "equipped-parking",
      "metadata": {
        "id": "equipped-parking"
      },
      "source": [
        "Adjusted R-squared did not even change. Now let us compare the original model and the one that has no collinear variables"
      ]
    },
    {
      "cell_type": "markdown",
      "id": "legendary-destination",
      "metadata": {
        "id": "legendary-destination"
      },
      "source": [
        "### Comparison of models"
      ]
    },
    {
      "cell_type": "code",
      "execution_count": null,
      "id": "descending-endorsement",
      "metadata": {
        "id": "descending-endorsement",
        "outputId": "3415e958-fca6-4539-ad3a-d1d64874a8b9"
      },
      "outputs": [
        {
          "data": {
            "text/html": [
              "-217.187042193629"
            ],
            "text/latex": [
              "-217.187042193629"
            ],
            "text/markdown": [
              "-217.187042193629"
            ],
            "text/plain": [
              "[1] -217.187"
            ]
          },
          "metadata": {},
          "output_type": "display_data"
        }
      ],
      "source": [
        "AIC(model3)"
      ]
    },
    {
      "cell_type": "code",
      "execution_count": null,
      "id": "subject-probe",
      "metadata": {
        "id": "subject-probe",
        "outputId": "8201f274-7caf-4904-90b2-53df264b15c5"
      },
      "outputs": [
        {
          "data": {
            "text/html": [
              "-219.997557055384"
            ],
            "text/latex": [
              "-219.997557055384"
            ],
            "text/markdown": [
              "-219.997557055384"
            ],
            "text/plain": [
              "[1] -219.9976"
            ]
          },
          "metadata": {},
          "output_type": "display_data"
        }
      ],
      "source": [
        "AIC(model4)"
      ]
    },
    {
      "cell_type": "markdown",
      "id": "short-nation",
      "metadata": {
        "id": "short-nation"
      },
      "source": [
        "According to AIC, second model (no collinear variables) is better"
      ]
    },
    {
      "cell_type": "code",
      "execution_count": null,
      "id": "incomplete-journey",
      "metadata": {
        "id": "incomplete-journey",
        "outputId": "78a09ce6-584e-4f7f-d17c-4271c3d4c04d"
      },
      "outputs": [
        {
          "data": {
            "text/html": [
              "-111.972291541214"
            ],
            "text/latex": [
              "-111.972291541214"
            ],
            "text/markdown": [
              "-111.972291541214"
            ],
            "text/plain": [
              "[1] -111.9723"
            ]
          },
          "metadata": {},
          "output_type": "display_data"
        }
      ],
      "source": [
        "BIC(model3)"
      ]
    },
    {
      "cell_type": "code",
      "execution_count": null,
      "id": "civic-testimony",
      "metadata": {
        "id": "civic-testimony",
        "outputId": "e28f0566-a85c-4ece-fa1c-9db0374a71fc"
      },
      "outputs": [
        {
          "data": {
            "text/html": [
              "-123.199986455161"
            ],
            "text/latex": [
              "-123.199986455161"
            ],
            "text/markdown": [
              "-123.199986455161"
            ],
            "text/plain": [
              "[1] -123.2"
            ]
          },
          "metadata": {},
          "output_type": "display_data"
        }
      ],
      "source": [
        "BIC(model4)"
      ]
    },
    {
      "cell_type": "markdown",
      "id": "functional-deposit",
      "metadata": {
        "id": "functional-deposit"
      },
      "source": [
        "According to BIC, second model is also better"
      ]
    },
    {
      "cell_type": "markdown",
      "id": "lasting-conditioning",
      "metadata": {
        "id": "lasting-conditioning"
      },
      "source": [
        "AIC and BIC say that model with no collinear variables is better, while the drop in Adjusted R-squared is insignifant. So we choose the second model"
      ]
    },
    {
      "cell_type": "markdown",
      "id": "swedish-israel",
      "metadata": {
        "id": "swedish-israel"
      },
      "source": [
        "### Significance of predictors in the second model"
      ]
    },
    {
      "cell_type": "code",
      "execution_count": null,
      "id": "covered-humanity",
      "metadata": {
        "id": "covered-humanity",
        "outputId": "b00afc6e-5057-488e-c1e0-f126e9941302"
      },
      "outputs": [
        {
          "data": {
            "image/png": "[encoded data removed]",
            "text/plain": [
              "Plot with title \"\""
            ]
          },
          "metadata": {},
          "output_type": "display_data"
        },
        {
          "data": {
            "image/png": "[encoded data removed]",
            "text/plain": [
              "Plot with title \"\""
            ]
          },
          "metadata": {},
          "output_type": "display_data"
        },
        {
          "data": {
            "image/png": "[encoded data removed]",
            "text/plain": [
              "Plot with title \"\""
            ]
          },
          "metadata": {},
          "output_type": "display_data"
        }
      ],
      "source": [
        "options(repr.plot.width=7, repr.plot.height=6)\n",
        "avPlots(model4)"
      ]
    },
    {
      "cell_type": "markdown",
      "id": "crucial-essence",
      "metadata": {
        "id": "crucial-essence"
      },
      "source": [
        "Added variable plots do not arise any problems, so each predictor is worth to be present in the model"
      ]
    },
    {
      "cell_type": "markdown",
      "id": "available-supervision",
      "metadata": {
        "id": "available-supervision"
      },
      "source": [
        "## Conclusion"
      ]
    },
    {
      "cell_type": "markdown",
      "id": "broadband-jacksonville",
      "metadata": {
        "id": "broadband-jacksonville"
      },
      "source": [
        "Finally, the model (that has no collinear variables) is as follows:"
      ]
    },
    {
      "cell_type": "markdown",
      "id": "adopted-drain",
      "metadata": {
        "id": "adopted-drain"
      },
      "source": [
        "$y = -6.21 -1.167219x_1-0.09[I = color E] -0.15[I = color F] -0.23[I = color G] - 0.41[I = color H] -0.56[I = color I] -0.75[I = color J] +  0.18[I = cut Good] + 0.31[I = cut Ideal] + 0.26[I = cut Premium] + 0.29[I = cut Very Good] + 0.73x_2 + 0.05x_3+ 0.01x_4 +  1.62[I = clarity IF] +  0.9[I = clarity SI1] +  0.65[I = clarity SI2] + 1.20[I = clarity VS1] + 1.12[I = clarity VS2] + 1.49[I = clarity VVS1] + 1.41[I = clarity VVS2]$"
      ]
    },
    {
      "cell_type": "markdown",
      "id": "musical-capital",
      "metadata": {
        "id": "musical-capital"
      },
      "source": [
        "where \n",
        "- $x_1$ is carat\n",
        "- $x_2$ is dim (x + y + z)\n",
        "- $x_3$ is depth\n",
        "- $x_4$ is table"
      ]
    },
    {
      "cell_type": "markdown",
      "id": "respected-course",
      "metadata": {
        "id": "respected-course"
      },
      "source": [
        "I used Box-Cox transformation that solved all the problems with model assumptions. So there was no need to apply WLS (because variance was constant after Box-Cox). Also, I simply integrated three variables into one which I called dimension because it contains sum of length, width, and height of diamonds. So there was no need to apply ridge regression because multicollinearity problem was solved by this simple method. Then I removed some outliers based only on DFFITS because Cook's distance method gave huge number of outliers. After comparison of models with $x, y, z$ and with $dim$ based on AIC and BIC, we came to the conclusion that model with no collinear variables is better. I did not focus on predictors in this project but I used Added Variable Plots that show relation between transformed price and predictors. It shows that each predictor has linear relationship with transformed price and each predictor is significant"
      ]
    },
    {
      "cell_type": "markdown",
      "id": "sound-burner",
      "metadata": {
        "id": "sound-burner"
      },
      "source": [
        "## Further Improvement"
      ]
    },
    {
      "cell_type": "markdown",
      "id": "attended-perry",
      "metadata": {
        "id": "attended-perry"
      },
      "source": [
        "I could pay more attention to the predictors. Find outliers in predictors. But I trusted those predictors very much because I did similar work in ML project, so that there was no problem with them. I could add interaction terms and analyze if they are necessary, but I did not see any correlation that would tell there is interaction between variables. "
      ]
    }
  ],
  "metadata": {
    "kernelspec": {
      "display_name": "R",
      "language": "R",
      "name": "ir"
    },
    "language_info": {
      "codemirror_mode": "r",
      "file_extension": ".r",
      "mimetype": "text/x-r-source",
      "name": "R",
      "pygments_lexer": "r",
      "version": "3.6.1"
    },
    "colab": {
      "name": "regression_proj2.ipynb",
      "provenance": []
    }
  },
  "nbformat": 4,
  "nbformat_minor": 5
}