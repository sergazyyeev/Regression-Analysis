{
  "cells": [
    {
      "cell_type": "markdown",
      "id": "controlling-termination",
      "metadata": {
        "id": "controlling-termination"
      },
      "source": [
        "## Is there linear relationship between Win Rate and Kills/Deaths ratio in CS:GO?"
      ]
    },
    {
      "cell_type": "markdown",
      "id": "stunning-holly",
      "metadata": {
        "id": "stunning-holly"
      },
      "source": [
        "### Introduction"
      ]
    },
    {
      "cell_type": "markdown",
      "id": "suspended-alabama",
      "metadata": {
        "id": "suspended-alabama"
      },
      "source": [
        "As I played almost 300 hours in <font color = 'purple'>Counter-Strike:Global Offensive (CS:GO)</font>, I was really interested in dependence between parameters like hours, win rate, number of bullets shot in round, damage made by players,etc. In this small project, I explore the relationship between Win Rate and Kills/Deaths ratio. Win rate is won matches divided by total number of matches, and it is measured in percents. "
      ]
    },
    {
      "cell_type": "markdown",
      "id": "known-sunglasses",
      "metadata": {
        "id": "known-sunglasses"
      },
      "source": [
        "I found very interesting website [csgorankings.com](https://csgorankings.com/). Here we can find many steam users, and their statistics: win rate, accuracy, headshots percentage, total time played in CS:GO, etc. This data is real because it was taken from steam users' profiles that allowed to share their details to public.\n",
        "Surfing this website, I found a section [Players - Highest Win Rate](https://csgorankings.com/players/winnings) that displays Win Rate and Kills/Deaths ratio of 100 players. I took only 30 observations since it was sufficient for this small project. "
      ]
    },
    {
      "cell_type": "markdown",
      "id": "distributed-master",
      "metadata": {
        "id": "distributed-master"
      },
      "source": [
        "### Checking assumptions"
      ]
    },
    {
      "cell_type": "markdown",
      "id": "hindu-marking",
      "metadata": {
        "id": "hindu-marking"
      },
      "source": [
        "Before we do actual analysis, let us check assumptions of linear regression: <i>normality, linearity, homogeneity of variance, </i>and <i>independece.</i> "
      ]
    },
    {
      "cell_type": "code",
      "execution_count": null,
      "id": "gentle-stationery",
      "metadata": {
        "id": "gentle-stationery",
        "outputId": "d0d7f510-db2d-42f2-d26d-cf9aad8aaaee"
      },
      "outputs": [
        {
          "data": {
            "image/png": "[encoded data removed]",
            "text/plain": [
              "Plot with title \"Normal Q-Q Plot\""
            ]
          },
          "metadata": {},
          "output_type": "display_data"
        },
        {
          "data": {
            "image/png": "[encoded data removed]",
            "text/plain": [
              "Plot with title \"Residuals VS Predicted values\""
            ]
          },
          "metadata": {},
          "output_type": "display_data"
        },
        {
          "data": {
            "image/png": "[encoded data removed]",
            "text/plain": [
              "Plot with title \"Residuals VS Index\""
            ]
          },
          "metadata": {},
          "output_type": "display_data"
        }
      ],
      "source": [
        "library(repr)\n",
        "options(repr.plot.width=4, repr.plot.height=3)\n",
        "dataset = read.csv('C:/Users/sergazyyev/Desktop/dataset.txt', sep = '\\t')\n",
        "cs_model = lm(Winrate~KD, data = dataset)\n",
        "\n",
        "#normality\n",
        "qqnorm(dataset$Winrate, cex.lab = 0.7, cex.main = 0.8, cex.axis = 0.7)\n",
        "qqline(dataset$Winrate)\n",
        "\n",
        "#hmgnt of var, linearity\n",
        "df = data.frame(fitted(cs_model), resid(cs_model))\n",
        "plot(df, xlab = 'Predicted values of Win Rate', main = 'Residuals VS Predicted values',ylab = 'Residuals', cex.lab = 0.7, \n",
        "cex.main = 0.8, cex.axis = 0.7)\n",
        "abline(h = 0)\n",
        "\n",
        "#independence\n",
        "ind = seq(1,length(resid(cs_model)))\n",
        "plot(ind, resid(cs_model), main = 'Residuals VS Index', xlab = 'Index', ylab = 'Residuals', cex.lab = 0.7, cex.main = 0.8,\n",
        "cex.axis = 0.7)"
      ]
    },
    {
      "cell_type": "markdown",
      "id": "italic-dining",
      "metadata": {
        "id": "italic-dining"
      },
      "source": [
        "Looking at QQ plot, we can say that normality is satisfied because points almost lie on the qqline. <br>\n",
        "In \"Residuals VS Predicted values\" plot, points are not equally shifted from the horizontal line. So, linearity and homogeneity of variance do not hold. <br>\n",
        "In \"Residuals VS Index\", there is clear pattern that would describe relationship between residuals and index. As index increases, residuals decrease. Hence, observations are not independent. <br>\n",
        "Now we expect that there is no linear relationship between Win Rate and K/D ratio because assumptions were mostly unsatisfactory.\n"
      ]
    },
    {
      "cell_type": "markdown",
      "id": "declared-teach",
      "metadata": {
        "id": "declared-teach"
      },
      "source": [
        "### Analysis"
      ]
    },
    {
      "cell_type": "markdown",
      "id": "quality-belief",
      "metadata": {
        "id": "quality-belief"
      },
      "source": [
        "In this part, I will plot regression model and apply T-test to check if slope is zero or not."
      ]
    },
    {
      "cell_type": "markdown",
      "id": "basic-clear",
      "metadata": {
        "id": "basic-clear"
      },
      "source": [
        "#### Regression model"
      ]
    },
    {
      "cell_type": "code",
      "execution_count": null,
      "id": "composite-vessel",
      "metadata": {
        "id": "composite-vessel",
        "outputId": "ea043183-0585-454d-9a66-5845484068e7"
      },
      "outputs": [
        {
          "data": {
            "image/png": "[encoded data removed]",
            "text/plain": [
              "Plot with title \"Linear Regression Fit\""
            ]
          },
          "metadata": {},
          "output_type": "display_data"
        }
      ],
      "source": [
        "cs_model = lm(Winrate~KD, data = dataset)\n",
        "dataframe <- data.frame(dataset[2],dataset[1])\n",
        "plot(dataframe, main = 'Linear Regression Fit', xlab = 'K/D ratio', ylab = 'Winrate', cex.lab = 0.7, cex.main = 0.8,\n",
        "cex.axis = 0.7)\n",
        "abline(cs_model)"
      ]
    },
    {
      "cell_type": "markdown",
      "id": "liked-princeton",
      "metadata": {
        "id": "liked-princeton"
      },
      "source": [
        "## $y = 49.17 + 5.99x$"
      ]
    },
    {
      "cell_type": "markdown",
      "id": "comfortable-basket",
      "metadata": {
        "id": "comfortable-basket"
      },
      "source": [
        "#### T-test"
      ]
    },
    {
      "cell_type": "markdown",
      "id": "upset-census",
      "metadata": {
        "id": "upset-census"
      },
      "source": [
        "Below we can see the summary of linear regression model. Let me apply T-test based on information taken from the summary: <br>\n",
        "I chose significance level of 0.05.  <br>\n",
        "Null hypothesis: the slope is zero <br>\n",
        "Alternative hypothesis: the slope is not zero <br>\n",
        "Since p-value is greater than chosen significance level (0.0787 > 0.05) there is no strong evidence against null hypothesis. So, it is <font color = \"red\">highly probable</font> that slope could be zero.  <br>"
      ]
    },
    {
      "cell_type": "code",
      "execution_count": null,
      "id": "forbidden-garlic",
      "metadata": {
        "id": "forbidden-garlic",
        "outputId": "40fb4062-624e-41f5-a6dc-57111456f97d"
      },
      "outputs": [
        {
          "data": {
            "text/plain": [
              "\n",
              "Call:\n",
              "lm(formula = Winrate ~ KD, data = dataset)\n",
              "\n",
              "Residuals:\n",
              "   Min     1Q Median     3Q    Max \n",
              "-3.590 -1.826 -1.031  1.154  9.829 \n",
              "\n",
              "Coefficients:\n",
              "            Estimate Std. Error t value Pr(>|t|)    \n",
              "(Intercept)   49.174      4.068  12.087 1.26e-12 ***\n",
              "KD             5.998      3.286   1.825   0.0787 .  \n",
              "---\n",
              "Signif. codes:  0 '***' 0.001 '**' 0.01 '*' 0.05 '.' 0.1 ' ' 1\n",
              "\n",
              "Residual standard error: 2.876 on 28 degrees of freedom\n",
              "Multiple R-squared:  0.1063,\tAdjusted R-squared:  0.0744 \n",
              "F-statistic: 3.331 on 1 and 28 DF,  p-value: 0.07867\n"
            ]
          },
          "metadata": {},
          "output_type": "display_data"
        }
      ],
      "source": [
        "summary(cs_model)"
      ]
    },
    {
      "cell_type": "markdown",
      "id": "manual-sheep",
      "metadata": {
        "id": "manual-sheep"
      },
      "source": [
        "### Conclusion"
      ]
    },
    {
      "cell_type": "markdown",
      "id": "blank-recruitment",
      "metadata": {
        "id": "blank-recruitment"
      },
      "source": [
        "Assumptions of linear regression were not satisfactory. Also, T-test showed that we cannot say that slope is zero. And if we look at adjusted R-squared, its value (0.0744) means that there is no strong linear relationship between Win Rate and K/D ratio. As a result of analysis, there is no linear relationship between Win Rate and Kills/Deaths ratio in CS:GO. This answers the research question. "
      ]
    },
    {
      "cell_type": "markdown",
      "id": "minor-crisis",
      "metadata": {
        "id": "minor-crisis"
      },
      "source": [
        "### Discussion\n"
      ]
    },
    {
      "cell_type": "markdown",
      "id": "homeless-substance",
      "metadata": {
        "id": "homeless-substance"
      },
      "source": [
        "To make assumptions satisfactory, I could apply some transformation on observations. But I thought it was unnecessary in this small project because otherwise it would be more complicated. \n",
        "To continue this topic, I am interested in multiple regression where I could consider other parameters (number of MVPs, number of points), and make the project more exciting. "
      ]
    },
    {
      "cell_type": "markdown",
      "id": "neutral-coast",
      "metadata": {
        "id": "neutral-coast"
      },
      "source": [
        "### Additional Part"
      ]
    },
    {
      "cell_type": "markdown",
      "id": "developmental-container",
      "metadata": {
        "id": "developmental-container"
      },
      "source": [
        "I wanted to apply this regression model for my own K/D ratio. As we can see, there is some difference in true value and predicted one. But this does not tell anything about goodness of linear regression model. I just wanted to use it."
      ]
    },
    {
      "cell_type": "code",
      "execution_count": null,
      "id": "legal-damage",
      "metadata": {
        "id": "legal-damage",
        "outputId": "bd062c65-0482-4299-f205-61088c98f3e5"
      },
      "outputs": [
        {
          "data": {
            "text/html": [
              "<strong>(Intercept):</strong> 55.5310724748717"
            ],
            "text/latex": [
              "\\textbf{(Intercept):} 55.5310724748717"
            ],
            "text/markdown": [
              "**(Intercept):** 55.5310724748717"
            ],
            "text/plain": [
              "(Intercept) \n",
              "   55.53107 "
            ]
          },
          "metadata": {},
          "output_type": "display_data"
        }
      ],
      "source": [
        "cs_model$coefficients[1] + cs_model$coefficients[2]*1.06\n",
        "true_winrate = 50.5"
      ]
    }
  ],
  "metadata": {
    "kernelspec": {
      "display_name": "R",
      "language": "R",
      "name": "ir"
    },
    "language_info": {
      "codemirror_mode": "r",
      "file_extension": ".r",
      "mimetype": "text/x-r-source",
      "name": "R",
      "pygments_lexer": "r",
      "version": "3.6.1"
    },
    "colab": {
      "name": "regression_proj1.ipynb",
      "provenance": []
    }
  },
  "nbformat": 4,
  "nbformat_minor": 5
}